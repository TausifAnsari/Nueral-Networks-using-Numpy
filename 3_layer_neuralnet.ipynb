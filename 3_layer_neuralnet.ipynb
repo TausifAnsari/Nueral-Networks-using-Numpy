{
  "nbformat": 4,
  "nbformat_minor": 0,
  "metadata": {
    "colab": {
      "name": "3_layer_neuralnet.ipynb",
      "version": "0.3.2",
      "provenance": [],
      "collapsed_sections": [],
      "include_colab_link": true
    },
    "kernelspec": {
      "name": "python3",
      "display_name": "Python 3"
    }
  },
  "cells": [
    {
      "cell_type": "markdown",
      "metadata": {
        "id": "view-in-github",
        "colab_type": "text"
      },
      "source": [
        "<a href=\"https://colab.research.google.com/github/TausifAnsari/Nueral-Networks-using-Numpy/blob/master/3_layer_neuralnet.ipynb\" target=\"_parent\"><img src=\"https://colab.research.google.com/assets/colab-badge.svg\" alt=\"Open In Colab\"/></a>"
      ]
    },
    {
      "cell_type": "code",
      "metadata": {
        "id": "qqQa9SATtw_W",
        "colab_type": "code",
        "colab": {}
      },
      "source": [
        "import numpy as np\n",
        "\n",
        "# Sigmoid Activation Function\n",
        "def sigmoid(x, derivative=False):\n",
        "  if(derivative==True):\n",
        "    return x*(1-x)\n",
        "  return 1/(1+exp(-x))\n",
        "\n",
        "# Input Dataset \n",
        "inputs = np.array([[0,1,0],\n",
        "                [1,0,0],\n",
        "                [0,0,1],\n",
        "                [1,1,1]])\n",
        "\n",
        "# output Dataset\n",
        "output = np.array([[0],[1],[0],[1]])\n",
        "\n",
        "# Seeding Random Numbers\n",
        "np.random.seed(1)\n",
        "\n",
        "# Synapse Matrices\n",
        "# Assigning random weights\n",
        "synapse1 = 2*np.random.random((3,4))-1\n",
        "synapse2 = 2*np.random.random((4,1))-1\n",
        "\n",
        "# Training Dataset\n",
        "for i in range(10000):\n",
        "  # layer1 is the input layer\n",
        "  # layer2 is the output layer\n",
        "  \n",
        "  \n",
        "  layer1 = inputs\n",
        "  layer2 = sigmoid(dot(layer1,synapse1))\n",
        "  layer3 = sigmoid(dot(layer2,synapse2))\n",
        "\n",
        "  # Error Calculation \n",
        "  # Error = Actual Output - Trained output\n",
        "  layer3_error = output - layer3\n",
        "  \n",
        "  if(i%10000)== 0:\n",
        "    print(\" Error : \"+str(np.mean(np.abs(layer3_error))))\n",
        "\n",
        "  # Calculating Delta\n",
        "  # Delta is used to reduce the error rate\n",
        "  # Delta = Error * Sigmoid Activation function\n",
        "  layer3_Delta = layer3_error*sigmoid(layer3, derivative=True)\n",
        "  \n",
        "  layer2_error = dot(layer3_Delta,synapse2.T)\n",
        "  \n",
        "  layer2_Delta = layer2_error*sigmoid(layer2,True)\n",
        "  \n",
        "  # Updating weights\n",
        "  synapse2 += dot(layer2.T,layer3_Delta)\n",
        "  synapse1 += dot(layer1.T,layer2_Delta)\n",
        "\n",
        "print(\"Output layer after training\")\n",
        "print(layer3)\n",
        "\n",
        "#print(\"Input: [1,0,0]\")\n",
        "#print(\"Output : \", end=\"\")\n",
        "#print(round(float(sigmoid(dot(array([[1,0,0]]),synapse1)))))\n",
        "\n",
        "\n"
      ],
      "execution_count": 0,
      "outputs": []
    }
  ]
}